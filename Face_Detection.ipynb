{
  "nbformat": 4,
  "nbformat_minor": 0,
  "metadata": {
    "colab": {
      "provenance": [],
      "authorship_tag": "ABX9TyPqjDRtqv5n6mjDEGfHTcmO"
    },
    "kernelspec": {
      "name": "python3",
      "display_name": "Python 3"
    },
    "language_info": {
      "name": "python"
    }
  },
  "cells": [
    {
      "cell_type": "code",
      "execution_count": null,
      "metadata": {
        "id": "FKoIuRKW67U-"
      },
      "outputs": [],
      "source": [
        "# Step 1: Install necessary libraries\n",
        "!pip install opencv-python opencv-python-headless keras numpy matplotlib\n",
        "\n",
        "# Step 2: Import necessary libraries\n",
        "import cv2\n",
        "import numpy as np\n",
        "from matplotlib import pyplot as plt\n",
        "import os\n",
        "\n",
        "# Step 3: Load the Haar cascade for face detection\n",
        "face_cascade = cv2.CascadeClassifier(cv2.data.haarcascades + 'haarcascade_frontalface_default.xml')\n",
        "\n",
        "# Step 4: Image URL\n",
        "image_url = \"https://img.freepik.com/free-photo/portrait-african-american-man_23-2149072179.jpg\"\n",
        "\n",
        "# Step 5: Read the image from URL\n",
        "# Note: This requires the `requests` library to download the image\n",
        "import requests\n",
        "from io import BytesIO\n",
        "\n",
        "response = requests.get(image_url)\n",
        "image_data = response.content\n",
        "image_array = np.frombuffer(image_data, np.uint8)\n",
        "image = cv2.imdecode(image_array, cv2.IMREAD_COLOR)\n",
        "\n",
        "# Step 6: Convert the image to grayscale\n",
        "gray = cv2.cvtColor(image, cv2.COLOR_BGR2GRAY)\n",
        "\n",
        "# Step 7: Detect faces\n",
        "faces = face_cascade.detectMultiScale(gray, scaleFactor=1.1, minNeighbors=5, minSize=(30, 30))\n",
        "\n",
        "# Step 8: Draw rectangles around the faces\n",
        "for (x, y, w, h) in faces:\n",
        "    cv2.rectangle(image, (x, y), (x+w, y+h), (255, 0, 0), 2)\n",
        "\n",
        "# Step 9: Display the output\n",
        "plt.imshow(cv2.cvtColor(image, cv2.COLOR_BGR2RGB))\n",
        "plt.axis('off')\n",
        "plt.show()\n"
      ]
    }
  ]
}